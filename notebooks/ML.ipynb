{
 "cells": [
  {
   "cell_type": "code",
   "execution_count": 1,
   "metadata": {},
   "outputs": [],
   "source": [
    "import pandas as pd\n",
    "import matplotlib.pyplot as plt\n",
    "from sklearn.metrics import classification_report\n",
    "from catboost import CatBoostClassifier, Pool\n",
    "import numpy as np\n",
    "\n",
    "from eda import assign_time_control"
   ]
  },
  {
   "cell_type": "markdown",
   "metadata": {},
   "source": [
    "# Read and prepare training and test datasets"
   ]
  },
  {
   "cell_type": "code",
   "execution_count": 2,
   "metadata": {},
   "outputs": [],
   "source": [
    "# read data\n",
    "headers = pd.read_parquet(\"../data/headers\")"
   ]
  },
  {
   "cell_type": "code",
   "execution_count": 3,
   "metadata": {},
   "outputs": [],
   "source": [
    "# clean data\n",
    "headers = headers[headers['Result'] != \"*\"]\n",
    "headers = headers[headers['TimeControl'] != \"-\"]\n",
    "headers = headers[headers['FEN'] != \"?\"]\n",
    "headers = headers[headers['BlackElo'] != \"?\"]\n",
    "headers = headers[headers['WhiteElo'] != \"?\"]"
   ]
  },
  {
   "cell_type": "code",
   "execution_count": 4,
   "metadata": {},
   "outputs": [],
   "source": [
    "# add column with initial position\n",
    "headers['position'] = headers['FEN'].map(lambda x: x[:8])"
   ]
  },
  {
   "cell_type": "code",
   "execution_count": 6,
   "metadata": {},
   "outputs": [],
   "source": [
    "# add column with time control\n",
    "headers['time_class'] = headers['TimeControl'].map(assign_time_control)"
   ]
  },
  {
   "attachments": {},
   "cell_type": "markdown",
   "metadata": {},
   "source": [
    "# Train / Test split"
   ]
  },
  {
   "cell_type": "code",
   "execution_count": 7,
   "metadata": {},
   "outputs": [],
   "source": [
    "train = headers[headers['UTCDate'] < \"2022.06.01\"]\n",
    "test = headers[headers['UTCDate'] >= \"2022.06.01\"]"
   ]
  },
  {
   "cell_type": "code",
   "execution_count": 8,
   "metadata": {},
   "outputs": [
    {
     "data": {
      "text/plain": [
       "0.8295027025172017"
      ]
     },
     "execution_count": 8,
     "metadata": {},
     "output_type": "execute_result"
    }
   ],
   "source": [
    "len(train) / len(headers)"
   ]
  },
  {
   "attachments": {},
   "cell_type": "markdown",
   "metadata": {},
   "source": [
    "# Machine Learning model"
   ]
  },
  {
   "cell_type": "code",
   "execution_count": 9,
   "metadata": {},
   "outputs": [],
   "source": [
    "def build_pools(df, columns, cat_columns):\n",
    "    y = df['Result']\n",
    "    X = df[columns]\n",
    "    return Pool(X, y, cat_features=cat_columns)"
   ]
  },
  {
   "cell_type": "code",
   "execution_count": 10,
   "metadata": {},
   "outputs": [
    {
     "name": "stderr",
     "output_type": "stream",
     "text": [
      "/Users/a.molasmartin/Documents/workspace/chess-960/chess-env/lib/python3.10/site-packages/catboost/core.py:1419: FutureWarning: iteritems is deprecated and will be removed in a future version. Use .items instead.\n",
      "  self._init_pool(data, label, cat_features, text_features, embedding_features, embedding_features_data, pairs, weight,\n",
      "/Users/a.molasmartin/Documents/workspace/chess-960/chess-env/lib/python3.10/site-packages/catboost/core.py:1419: FutureWarning: iteritems is deprecated and will be removed in a future version. Use .items instead.\n",
      "  self._init_pool(data, label, cat_features, text_features, embedding_features, embedding_features_data, pairs, weight,\n",
      "/Users/a.molasmartin/Documents/workspace/chess-960/chess-env/lib/python3.10/site-packages/catboost/core.py:1419: FutureWarning: iteritems is deprecated and will be removed in a future version. Use .items instead.\n",
      "  self._init_pool(data, label, cat_features, text_features, embedding_features, embedding_features_data, pairs, weight,\n"
     ]
    }
   ],
   "source": [
    "train_pool = build_pools(df=train, \n",
    "                         columns=['WhiteElo', 'BlackElo', 'time_class', 'position'], \n",
    "                         cat_columns=['time_class', 'position'])\n",
    "train_pool_no_pos = build_pools(df=train, \n",
    "                                columns=['WhiteElo', 'BlackElo', 'time_class'], \n",
    "                                cat_columns=['time_class'])\n",
    "\n",
    "test_pool = build_pools(df=test, \n",
    "                        columns=['WhiteElo', 'BlackElo', 'time_class', 'position'], \n",
    "                        cat_columns=['time_class', 'position'])"
   ]
  },
  {
   "cell_type": "markdown",
   "metadata": {},
   "source": [
    "# Define and train a CatBoost model"
   ]
  },
  {
   "cell_type": "code",
   "execution_count": 11,
   "metadata": {},
   "outputs": [],
   "source": [
    "params = {\"iterations\": 100,\n",
    "          \"depth\": 6,\n",
    "          \"loss_function\": \"MultiClass\",\n",
    "          \"learning_rate\": .01,\n",
    "          \"train_dir\": \"multiclass\"\n",
    "          }"
   ]
  },
  {
   "cell_type": "code",
   "execution_count": 12,
   "metadata": {},
   "outputs": [
    {
     "name": "stdout",
     "output_type": "stream",
     "text": [
      "0:\tlearn: 1.0928814\ttotal: 8.1s\tremaining: 13m 22s\n",
      "1:\tlearn: 1.0872800\ttotal: 14.9s\tremaining: 12m 10s\n",
      "2:\tlearn: 1.0818093\ttotal: 25s\tremaining: 13m 29s\n",
      "3:\tlearn: 1.0764190\ttotal: 30.7s\tremaining: 12m 16s\n",
      "4:\tlearn: 1.0711550\ttotal: 37.7s\tremaining: 11m 56s\n",
      "5:\tlearn: 1.0660021\ttotal: 43.2s\tremaining: 11m 16s\n",
      "6:\tlearn: 1.0609268\ttotal: 50.3s\tremaining: 11m 7s\n",
      "7:\tlearn: 1.0559648\ttotal: 56.1s\tremaining: 10m 44s\n",
      "8:\tlearn: 1.0510313\ttotal: 1m 1s\tremaining: 10m 21s\n",
      "9:\tlearn: 1.0462584\ttotal: 1m 6s\tremaining: 10m\n",
      "10:\tlearn: 1.0415125\ttotal: 1m 12s\tremaining: 9m 46s\n",
      "11:\tlearn: 1.0368831\ttotal: 1m 17s\tremaining: 9m 31s\n",
      "12:\tlearn: 1.0323492\ttotal: 1m 23s\tremaining: 9m 18s\n",
      "13:\tlearn: 1.0279133\ttotal: 1m 28s\tremaining: 9m 3s\n",
      "14:\tlearn: 1.0235329\ttotal: 1m 34s\tremaining: 8m 56s\n",
      "15:\tlearn: 1.0192293\ttotal: 1m 39s\tremaining: 8m 44s\n",
      "16:\tlearn: 1.0149961\ttotal: 1m 45s\tremaining: 8m 34s\n",
      "17:\tlearn: 1.0108049\ttotal: 1m 51s\tremaining: 8m 25s\n",
      "18:\tlearn: 1.0067741\ttotal: 1m 56s\tremaining: 8m 14s\n",
      "19:\tlearn: 1.0027885\ttotal: 2m 1s\tremaining: 8m 5s\n",
      "20:\tlearn: 0.9988054\ttotal: 2m 6s\tremaining: 7m 54s\n",
      "21:\tlearn: 0.9949716\ttotal: 2m 10s\tremaining: 7m 43s\n",
      "22:\tlearn: 0.9911465\ttotal: 2m 15s\tremaining: 7m 32s\n",
      "23:\tlearn: 0.9874231\ttotal: 2m 19s\tremaining: 7m 22s\n",
      "24:\tlearn: 0.9837031\ttotal: 2m 24s\tremaining: 7m 13s\n",
      "25:\tlearn: 0.9801187\ttotal: 2m 29s\tremaining: 7m 4s\n",
      "26:\tlearn: 0.9765481\ttotal: 2m 34s\tremaining: 6m 57s\n",
      "27:\tlearn: 0.9730366\ttotal: 2m 39s\tremaining: 6m 50s\n",
      "28:\tlearn: 0.9695615\ttotal: 2m 43s\tremaining: 6m 41s\n",
      "29:\tlearn: 0.9661383\ttotal: 2m 49s\tremaining: 6m 34s\n",
      "30:\tlearn: 0.9627886\ttotal: 2m 53s\tremaining: 6m 26s\n",
      "31:\tlearn: 0.9595488\ttotal: 2m 58s\tremaining: 6m 19s\n",
      "32:\tlearn: 0.9563240\ttotal: 3m 3s\tremaining: 6m 12s\n",
      "33:\tlearn: 0.9531648\ttotal: 3m 8s\tremaining: 6m 5s\n",
      "34:\tlearn: 0.9500086\ttotal: 3m 13s\tremaining: 5m 58s\n",
      "35:\tlearn: 0.9469432\ttotal: 3m 17s\tremaining: 5m 51s\n",
      "36:\tlearn: 0.9439092\ttotal: 3m 22s\tremaining: 5m 44s\n",
      "37:\tlearn: 0.9409255\ttotal: 3m 26s\tremaining: 5m 37s\n",
      "38:\tlearn: 0.9379786\ttotal: 3m 31s\tremaining: 5m 30s\n",
      "39:\tlearn: 0.9350706\ttotal: 3m 35s\tremaining: 5m 23s\n",
      "40:\tlearn: 0.9322269\ttotal: 3m 40s\tremaining: 5m 16s\n",
      "41:\tlearn: 0.9294549\ttotal: 3m 44s\tremaining: 5m 10s\n",
      "42:\tlearn: 0.9266792\ttotal: 3m 49s\tremaining: 5m 3s\n",
      "43:\tlearn: 0.9239504\ttotal: 3m 53s\tremaining: 4m 57s\n",
      "44:\tlearn: 0.9213069\ttotal: 3m 58s\tremaining: 4m 52s\n",
      "45:\tlearn: 0.9186830\ttotal: 4m 4s\tremaining: 4m 46s\n",
      "46:\tlearn: 0.9160925\ttotal: 4m 9s\tremaining: 4m 41s\n",
      "47:\tlearn: 0.9135281\ttotal: 4m 15s\tremaining: 4m 36s\n",
      "48:\tlearn: 0.9110600\ttotal: 4m 22s\tremaining: 4m 32s\n",
      "49:\tlearn: 0.9085880\ttotal: 4m 27s\tremaining: 4m 27s\n",
      "50:\tlearn: 0.9061411\ttotal: 4m 32s\tremaining: 4m 22s\n",
      "51:\tlearn: 0.9037447\ttotal: 4m 37s\tremaining: 4m 16s\n",
      "52:\tlearn: 0.9013761\ttotal: 4m 42s\tremaining: 4m 10s\n",
      "53:\tlearn: 0.8990348\ttotal: 4m 47s\tremaining: 4m 4s\n",
      "54:\tlearn: 0.8967441\ttotal: 4m 52s\tremaining: 3m 59s\n",
      "55:\tlearn: 0.8945091\ttotal: 4m 57s\tremaining: 3m 53s\n",
      "56:\tlearn: 0.8923150\ttotal: 5m 1s\tremaining: 3m 47s\n",
      "57:\tlearn: 0.8901543\ttotal: 5m 6s\tremaining: 3m 42s\n",
      "58:\tlearn: 0.8880220\ttotal: 5m 12s\tremaining: 3m 36s\n",
      "59:\tlearn: 0.8858953\ttotal: 5m 17s\tremaining: 3m 31s\n",
      "60:\tlearn: 0.8837985\ttotal: 5m 22s\tremaining: 3m 26s\n",
      "61:\tlearn: 0.8817512\ttotal: 5m 27s\tremaining: 3m 20s\n",
      "62:\tlearn: 0.8797214\ttotal: 5m 32s\tremaining: 3m 15s\n",
      "63:\tlearn: 0.8777270\ttotal: 5m 37s\tremaining: 3m 9s\n",
      "64:\tlearn: 0.8757479\ttotal: 5m 42s\tremaining: 3m 4s\n",
      "65:\tlearn: 0.8738143\ttotal: 5m 47s\tremaining: 2m 59s\n",
      "66:\tlearn: 0.8718893\ttotal: 5m 52s\tremaining: 2m 53s\n",
      "67:\tlearn: 0.8700248\ttotal: 5m 57s\tremaining: 2m 48s\n",
      "68:\tlearn: 0.8681640\ttotal: 6m 1s\tremaining: 2m 42s\n",
      "69:\tlearn: 0.8663176\ttotal: 6m 6s\tremaining: 2m 37s\n",
      "70:\tlearn: 0.8645213\ttotal: 6m 10s\tremaining: 2m 31s\n",
      "71:\tlearn: 0.8627467\ttotal: 6m 15s\tremaining: 2m 25s\n",
      "72:\tlearn: 0.8609876\ttotal: 6m 19s\tremaining: 2m 20s\n",
      "73:\tlearn: 0.8592511\ttotal: 6m 25s\tremaining: 2m 15s\n",
      "74:\tlearn: 0.8575491\ttotal: 6m 29s\tremaining: 2m 9s\n",
      "75:\tlearn: 0.8558805\ttotal: 6m 34s\tremaining: 2m 4s\n",
      "76:\tlearn: 0.8542157\ttotal: 6m 39s\tremaining: 1m 59s\n",
      "77:\tlearn: 0.8525740\ttotal: 6m 43s\tremaining: 1m 53s\n",
      "78:\tlearn: 0.8509652\ttotal: 6m 49s\tremaining: 1m 48s\n",
      "79:\tlearn: 0.8493891\ttotal: 6m 54s\tremaining: 1m 43s\n",
      "80:\tlearn: 0.8478448\ttotal: 6m 59s\tremaining: 1m 38s\n",
      "81:\tlearn: 0.8463065\ttotal: 7m 3s\tremaining: 1m 33s\n",
      "82:\tlearn: 0.8447967\ttotal: 7m 8s\tremaining: 1m 27s\n",
      "83:\tlearn: 0.8432979\ttotal: 7m 14s\tremaining: 1m 22s\n",
      "84:\tlearn: 0.8418163\ttotal: 7m 19s\tremaining: 1m 17s\n",
      "85:\tlearn: 0.8403713\ttotal: 7m 24s\tremaining: 1m 12s\n",
      "86:\tlearn: 0.8389247\ttotal: 7m 29s\tremaining: 1m 7s\n",
      "87:\tlearn: 0.8375062\ttotal: 7m 34s\tremaining: 1m 1s\n",
      "88:\tlearn: 0.8361127\ttotal: 7m 39s\tremaining: 56.8s\n",
      "89:\tlearn: 0.8347474\ttotal: 7m 44s\tremaining: 51.6s\n",
      "90:\tlearn: 0.8333953\ttotal: 7m 49s\tremaining: 46.4s\n",
      "91:\tlearn: 0.8320606\ttotal: 7m 54s\tremaining: 41.2s\n",
      "92:\tlearn: 0.8307435\ttotal: 7m 59s\tremaining: 36.1s\n",
      "93:\tlearn: 0.8294387\ttotal: 8m 6s\tremaining: 31s\n",
      "94:\tlearn: 0.8281702\ttotal: 8m 12s\tremaining: 25.9s\n",
      "95:\tlearn: 0.8269087\ttotal: 8m 20s\tremaining: 20.9s\n",
      "96:\tlearn: 0.8256570\ttotal: 8m 26s\tremaining: 15.7s\n",
      "97:\tlearn: 0.8244187\ttotal: 8m 31s\tremaining: 10.4s\n",
      "98:\tlearn: 0.8231992\ttotal: 8m 37s\tremaining: 5.22s\n",
      "99:\tlearn: 0.8220069\ttotal: 8m 42s\tremaining: 0us\n"
     ]
    },
    {
     "data": {
      "text/plain": [
       "<catboost.core.CatBoostClassifier at 0x17fbdfb80>"
      ]
     },
     "execution_count": 12,
     "metadata": {},
     "output_type": "execute_result"
    }
   ],
   "source": [
    "model = CatBoostClassifier(**params)\n",
    "model.fit(train_pool, early_stopping_rounds=50)"
   ]
  },
  {
   "cell_type": "code",
   "execution_count": 13,
   "metadata": {},
   "outputs": [],
   "source": [
    "predictions = model.predict(test_pool)\n",
    "predictions_proba = model.predict_proba(test_pool)"
   ]
  },
  {
   "attachments": {},
   "cell_type": "markdown",
   "metadata": {},
   "source": [
    "# Dummy model"
   ]
  },
  {
   "cell_type": "code",
   "execution_count": null,
   "metadata": {},
   "outputs": [],
   "source": [
    "def f(r):\n",
    "    if r[\"WhiteElo\"] > r[\"BlackElo\"]:\n",
    "        return \"1-0\"\n",
    "    if r[\"WhiteElo\"] == r[\"BlackElo\"]:\n",
    "        return \"1/2-1/2\"\n",
    "    return \"0-1\"\n",
    "dummy_preds = test.apply(f, axis=1)"
   ]
  },
  {
   "attachments": {},
   "cell_type": "markdown",
   "metadata": {},
   "source": [
    "# Evaluation"
   ]
  },
  {
   "cell_type": "code",
   "execution_count": null,
   "metadata": {},
   "outputs": [],
   "source": [
    "print(classification_report(test[\"Result\"], predictions))"
   ]
  },
  {
   "cell_type": "code",
   "execution_count": null,
   "metadata": {},
   "outputs": [],
   "source": [
    "print(classification_report(test[\"Result\"], dummy_preds))"
   ]
  },
  {
   "cell_type": "code",
   "execution_count": null,
   "metadata": {},
   "outputs": [],
   "source": []
  }
 ],
 "metadata": {
  "kernelspec": {
   "display_name": "Python 3.10.7 ('chess-env': venv)",
   "language": "python",
   "name": "python3"
  },
  "language_info": {
   "codemirror_mode": {
    "name": "ipython",
    "version": 3
   },
   "file_extension": ".py",
   "mimetype": "text/x-python",
   "name": "python",
   "nbconvert_exporter": "python",
   "pygments_lexer": "ipython3",
   "version": "3.10.7"
  },
  "orig_nbformat": 4,
  "vscode": {
   "interpreter": {
    "hash": "be5afcf9adfdf180c9666d2d4e159e38078ddbb1c9d9570784652a67506d0067"
   }
  }
 },
 "nbformat": 4,
 "nbformat_minor": 2
}
